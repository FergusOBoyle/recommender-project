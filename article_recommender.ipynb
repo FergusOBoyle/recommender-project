{
 "cells": [
  {
   "cell_type": "markdown",
   "metadata": {},
   "source": [
    "# Article Recommender for IBM Watson Users\n",
    "\n",
    "Note: This workspace is based on a project on the Udacity Data Science Nanodegree \n",
    "\n"
   ]
  },
  {
   "cell_type": "code",
   "execution_count": 46,
   "metadata": {},
   "outputs": [],
   "source": [
    "from sklearn.metrics import f1_score, precision_score, recall_score"
   ]
  },
  {
   "cell_type": "code",
   "execution_count": 47,
   "metadata": {},
   "outputs": [],
   "source": [
    "import pandas as pd\n",
    "import numpy as np\n",
    "import matplotlib.pyplot as plt\n",
    "import seaborn as sns\n",
    "import pickle\n",
    "\n",
    "%matplotlib inline\n",
    "\n",
    "df_user_item = pd.read_csv('data/user-item-interactions.csv')\n",
    "df_content = pd.read_csv('data/articles_community.csv')\n",
    "del df_user_item['Unnamed: 0'] #Remove redundant column\n",
    "del df_content['Unnamed: 0'] #Remove Redundant column"
   ]
  },
  {
   "cell_type": "markdown",
   "metadata": {},
   "source": [
    "#### User-item Interaction dataframe:\n",
    "\n",
    "This table details observed user accesses to articles on the IBM Watson server.   \n",
    "Take the email column to be a user number (it will be transformed later).  \n",
    "Accoring to the table, users access multiple articles and sometimes even the same article more than 1 time.  \n",
    "The distribution of number of articles accesses is illustrated later.   \n",
    "\n",
    "The distribution of a particualar user (email) is generally located in a portion of the dataset. For example, user 4 appears 45 times between rows 3 and 24864. The dataset may be a time-related log of accesses; in witch case, it would be natural for accesses by a particualar user to happen in bursts. I observed this by digging into 4 or 5 big-hitter user patterns rather than a broad investigation across all users but enough to know that for splitting the dataset into a training and testing subset some care would need to be taken (see matrix factorisation section below). \n"
   ]
  },
  {
   "cell_type": "code",
   "execution_count": 48,
   "metadata": {},
   "outputs": [
    {
     "name": "stdout",
     "output_type": "stream",
     "text": [
      "(45993, 3)\n"
     ]
    },
    {
     "data": {
      "text/html": [
       "<div>\n",
       "<style scoped>\n",
       "    .dataframe tbody tr th:only-of-type {\n",
       "        vertical-align: middle;\n",
       "    }\n",
       "\n",
       "    .dataframe tbody tr th {\n",
       "        vertical-align: top;\n",
       "    }\n",
       "\n",
       "    .dataframe thead th {\n",
       "        text-align: right;\n",
       "    }\n",
       "</style>\n",
       "<table border=\"1\" class=\"dataframe\">\n",
       "  <thead>\n",
       "    <tr style=\"text-align: right;\">\n",
       "      <th></th>\n",
       "      <th>article_id</th>\n",
       "      <th>title</th>\n",
       "      <th>email</th>\n",
       "    </tr>\n",
       "  </thead>\n",
       "  <tbody>\n",
       "    <tr>\n",
       "      <th>0</th>\n",
       "      <td>1430.0</td>\n",
       "      <td>using pixiedust for fast, flexible, and easier...</td>\n",
       "      <td>ef5f11f77ba020cd36e1105a00ab868bbdbf7fe7</td>\n",
       "    </tr>\n",
       "    <tr>\n",
       "      <th>1</th>\n",
       "      <td>1314.0</td>\n",
       "      <td>healthcare python streaming application demo</td>\n",
       "      <td>083cbdfa93c8444beaa4c5f5e0f5f9198e4f9e0b</td>\n",
       "    </tr>\n",
       "    <tr>\n",
       "      <th>2</th>\n",
       "      <td>1429.0</td>\n",
       "      <td>use deep learning for image classification</td>\n",
       "      <td>b96a4f2e92d8572034b1e9b28f9ac673765cd074</td>\n",
       "    </tr>\n",
       "    <tr>\n",
       "      <th>3</th>\n",
       "      <td>1338.0</td>\n",
       "      <td>ml optimization using cognitive assistant</td>\n",
       "      <td>06485706b34a5c9bf2a0ecdac41daf7e7654ceb7</td>\n",
       "    </tr>\n",
       "    <tr>\n",
       "      <th>4</th>\n",
       "      <td>1276.0</td>\n",
       "      <td>deploy your python model as a restful api</td>\n",
       "      <td>f01220c46fc92c6e6b161b1849de11faacd7ccb2</td>\n",
       "    </tr>\n",
       "    <tr>\n",
       "      <th>5</th>\n",
       "      <td>1432.0</td>\n",
       "      <td>visualize data with the matplotlib library</td>\n",
       "      <td>b32cd4e1a74e55ac42e4ef484b1f0ad41ee3b1c5</td>\n",
       "    </tr>\n",
       "    <tr>\n",
       "      <th>6</th>\n",
       "      <td>1429.0</td>\n",
       "      <td>use deep learning for image classification</td>\n",
       "      <td>3c2de1b0a92728aa53064a22ff7bd7319878ed95</td>\n",
       "    </tr>\n",
       "    <tr>\n",
       "      <th>7</th>\n",
       "      <td>593.0</td>\n",
       "      <td>upload files to ibm data science experience us...</td>\n",
       "      <td>3bbca9c41c66c4ecc46bc14eac7b7ab1ab0a5bea</td>\n",
       "    </tr>\n",
       "    <tr>\n",
       "      <th>8</th>\n",
       "      <td>1314.0</td>\n",
       "      <td>healthcare python streaming application demo</td>\n",
       "      <td>8b6fb4bbb7a27b336ba35420bf58337d877455c7</td>\n",
       "    </tr>\n",
       "    <tr>\n",
       "      <th>9</th>\n",
       "      <td>1185.0</td>\n",
       "      <td>classify tumors with machine learning</td>\n",
       "      <td>35d5799b6ea3ba24f921ed38f7f9a8039ad06ba4</td>\n",
       "    </tr>\n",
       "  </tbody>\n",
       "</table>\n",
       "</div>"
      ],
      "text/plain": [
       "   article_id                                              title  \\\n",
       "0      1430.0  using pixiedust for fast, flexible, and easier...   \n",
       "1      1314.0       healthcare python streaming application demo   \n",
       "2      1429.0         use deep learning for image classification   \n",
       "3      1338.0          ml optimization using cognitive assistant   \n",
       "4      1276.0          deploy your python model as a restful api   \n",
       "5      1432.0         visualize data with the matplotlib library   \n",
       "6      1429.0         use deep learning for image classification   \n",
       "7       593.0  upload files to ibm data science experience us...   \n",
       "8      1314.0       healthcare python streaming application demo   \n",
       "9      1185.0              classify tumors with machine learning   \n",
       "\n",
       "                                      email  \n",
       "0  ef5f11f77ba020cd36e1105a00ab868bbdbf7fe7  \n",
       "1  083cbdfa93c8444beaa4c5f5e0f5f9198e4f9e0b  \n",
       "2  b96a4f2e92d8572034b1e9b28f9ac673765cd074  \n",
       "3  06485706b34a5c9bf2a0ecdac41daf7e7654ceb7  \n",
       "4  f01220c46fc92c6e6b161b1849de11faacd7ccb2  \n",
       "5  b32cd4e1a74e55ac42e4ef484b1f0ad41ee3b1c5  \n",
       "6  3c2de1b0a92728aa53064a22ff7bd7319878ed95  \n",
       "7  3bbca9c41c66c4ecc46bc14eac7b7ab1ab0a5bea  \n",
       "8  8b6fb4bbb7a27b336ba35420bf58337d877455c7  \n",
       "9  35d5799b6ea3ba24f921ed38f7f9a8039ad06ba4  "
      ]
     },
     "execution_count": 48,
     "metadata": {},
     "output_type": "execute_result"
    }
   ],
   "source": [
    "print(df_user_item.shape)\n",
    "df_user_item.head(10)"
   ]
  },
  {
   "cell_type": "markdown",
   "metadata": {},
   "source": [
    "*Here we can see that the article access distro has a long tail. Much like what you would expect in a movie website for movie access:*"
   ]
  },
  {
   "cell_type": "code",
   "execution_count": 5,
   "metadata": {},
   "outputs": [
    {
     "data": {
      "text/plain": [
       "<Figure size 432x288 with 0 Axes>"
      ]
     },
     "execution_count": 5,
     "metadata": {},
     "output_type": "execute_result"
    },
    {
     "data": {
      "image/png": "[encoded data removed]",
      "text/plain": [
       "<Figure size 432x288 with 1 Axes>"
      ]
     },
     "metadata": {
      "needs_background": "light"
     },
     "output_type": "display_data"
    },
    {
     "data": {
      "text/plain": [
       "<Figure size 432x288 with 0 Axes>"
      ]
     },
     "metadata": {},
     "output_type": "display_data"
    }
   ],
   "source": [
    "article_counts = df_user_item[['article_id', 'title']].groupby(['article_id']).count().values\n",
    "ax = sns.distplot(article_counts, bins=np.arange(0,300), kde=False)\n",
    "ax.set_title(\"Distribution of number of accesses per article\")\n",
    "plt.figure()"
   ]
  },
  {
   "cell_type": "code",
   "execution_count": 158,
   "metadata": {},
   "outputs": [],
   "source": [
    "email1 = df_user_item['email'].value_counts().index[0]\n",
    "email2 = df_user_item['email'].value_counts().index[1]\n",
    "email3 = df_user_item['email'].value_counts().index[2]"
   ]
  },
  {
   "cell_type": "code",
   "execution_count": 170,
   "metadata": {},
   "outputs": [],
   "source": [
    "facet_data = pd.DataFrame()\n",
    "user1_data = np.where(df_user_item['email'] == email1, df_user_item.index, 0)\n",
    "user2_data = np.where(df_user_item['email'] == email2, df_user_item.index, 0)\n",
    "user3_data = np.where(df_user_item['email'] == email3, df_user_item.index, 0)"
   ]
  },
  {
   "cell_type": "code",
   "execution_count": 173,
   "metadata": {},
   "outputs": [
    {
     "data": {
      "text/plain": [
       "<matplotlib.axes._subplots.AxesSubplot at 0xa398798f98>"
      ]
     },
     "execution_count": 173,
     "metadata": {},
     "output_type": "execute_result"
    },
    {
     "data": {
      "image/png": "[encoded data removed]",
      "text/plain": [
       "<Figure size 432x288 with 1 Axes>"
      ]
     },
     "metadata": {
      "needs_background": "light"
     },
     "output_type": "display_data"
    }
   ],
   "source": [
    "sns.rugplot(rug_data, axis='x')\n",
    "sns.rugplot(user2_data, axis='x', color='r')\n",
    "sns.rugplot(user3_data, axis='x', color='g')"
   ]
  },
  {
   "cell_type": "markdown",
   "metadata": {},
   "source": [
    "#### Content dataframe\n",
    "\n",
    "Details of articles indexed by the article ID.\n",
    "\n",
    "Subtracting duplicates, there are around 1050 unique article IDs here.  \n",
    "The indices range from 0 to 1050.  \n",
    "Note that only a subset of these feature in the user-item dataframe.  \n",
    "Unfortunetly, there are are article IDs in the user-item dataframe that are not contained here in the content df.  "
   ]
  },
  {
   "cell_type": "code",
   "execution_count": 4,
   "metadata": {},
   "outputs": [
    {
     "name": "stdout",
     "output_type": "stream",
     "text": [
      "(1056, 5)\n"
     ]
    },
    {
     "data": {
      "text/html": [
       "<div>\n",
       "<style scoped>\n",
       "    .dataframe tbody tr th:only-of-type {\n",
       "        vertical-align: middle;\n",
       "    }\n",
       "\n",
       "    .dataframe tbody tr th {\n",
       "        vertical-align: top;\n",
       "    }\n",
       "\n",
       "    .dataframe thead th {\n",
       "        text-align: right;\n",
       "    }\n",
       "</style>\n",
       "<table border=\"1\" class=\"dataframe\">\n",
       "  <thead>\n",
       "    <tr style=\"text-align: right;\">\n",
       "      <th></th>\n",
       "      <th>doc_body</th>\n",
       "      <th>doc_description</th>\n",
       "      <th>doc_full_name</th>\n",
       "      <th>doc_status</th>\n",
       "      <th>article_id</th>\n",
       "    </tr>\n",
       "  </thead>\n",
       "  <tbody>\n",
       "    <tr>\n",
       "      <th>0</th>\n",
       "      <td>Skip navigation Sign in SearchLoading...\\r\\n\\r...</td>\n",
       "      <td>Detect bad readings in real time using Python ...</td>\n",
       "      <td>Detect Malfunctioning IoT Sensors with Streami...</td>\n",
       "      <td>Live</td>\n",
       "      <td>0</td>\n",
       "    </tr>\n",
       "    <tr>\n",
       "      <th>1</th>\n",
       "      <td>No Free Hunch Navigation * kaggle.com\\r\\n\\r\\n ...</td>\n",
       "      <td>See the forest, see the trees. Here lies the c...</td>\n",
       "      <td>Communicating data science: A guide to present...</td>\n",
       "      <td>Live</td>\n",
       "      <td>1</td>\n",
       "    </tr>\n",
       "    <tr>\n",
       "      <th>2</th>\n",
       "      <td>☰ * Login\\r\\n * Sign Up\\r\\n\\r\\n * Learning Pat...</td>\n",
       "      <td>Here’s this week’s news in Data Science and Bi...</td>\n",
       "      <td>This Week in Data Science (April 18, 2017)</td>\n",
       "      <td>Live</td>\n",
       "      <td>2</td>\n",
       "    </tr>\n",
       "    <tr>\n",
       "      <th>3</th>\n",
       "      <td>DATALAYER: HIGH THROUGHPUT, LOW LATENCY AT SCA...</td>\n",
       "      <td>Learn how distributed DBs solve the problem of...</td>\n",
       "      <td>DataLayer Conference: Boost the performance of...</td>\n",
       "      <td>Live</td>\n",
       "      <td>3</td>\n",
       "    </tr>\n",
       "    <tr>\n",
       "      <th>4</th>\n",
       "      <td>Skip navigation Sign in SearchLoading...\\r\\n\\r...</td>\n",
       "      <td>This video demonstrates the power of IBM DataS...</td>\n",
       "      <td>Analyze NY Restaurant data using Spark in DSX</td>\n",
       "      <td>Live</td>\n",
       "      <td>4</td>\n",
       "    </tr>\n",
       "  </tbody>\n",
       "</table>\n",
       "</div>"
      ],
      "text/plain": [
       "                                            doc_body  \\\n",
       "0  Skip navigation Sign in SearchLoading...\\r\\n\\r...   \n",
       "1  No Free Hunch Navigation * kaggle.com\\r\\n\\r\\n ...   \n",
       "2  ☰ * Login\\r\\n * Sign Up\\r\\n\\r\\n * Learning Pat...   \n",
       "3  DATALAYER: HIGH THROUGHPUT, LOW LATENCY AT SCA...   \n",
       "4  Skip navigation Sign in SearchLoading...\\r\\n\\r...   \n",
       "\n",
       "                                     doc_description  \\\n",
       "0  Detect bad readings in real time using Python ...   \n",
       "1  See the forest, see the trees. Here lies the c...   \n",
       "2  Here’s this week’s news in Data Science and Bi...   \n",
       "3  Learn how distributed DBs solve the problem of...   \n",
       "4  This video demonstrates the power of IBM DataS...   \n",
       "\n",
       "                                       doc_full_name doc_status  article_id  \n",
       "0  Detect Malfunctioning IoT Sensors with Streami...       Live           0  \n",
       "1  Communicating data science: A guide to present...       Live           1  \n",
       "2         This Week in Data Science (April 18, 2017)       Live           2  \n",
       "3  DataLayer Conference: Boost the performance of...       Live           3  \n",
       "4      Analyze NY Restaurant data using Spark in DSX       Live           4  "
      ]
     },
     "execution_count": 4,
     "metadata": {},
     "output_type": "execute_result"
    }
   ],
   "source": [
    "print(df_content.shape)\n",
    "df_content.head()"
   ]
  },
  {
   "cell_type": "code",
   "execution_count": 41,
   "metadata": {},
   "outputs": [
    {
     "data": {
      "text/plain": [
       "use deep learning for image classification                                            937\n",
       "insights from new york car accident reports                                           927\n",
       "visualize car data with brunel                                                        671\n",
       "use xgboost, scikit-learn & ibm watson machine learning apis                          643\n",
       "predicting churn with the spss random tree algorithm                                  627\n",
       "healthcare python streaming application demo                                          614\n",
       "finding optimal locations of new store using decision optimization                    572\n",
       "apache spark lab, part 1: basic concepts                                              565\n",
       "analyze energy consumption in buildings                                               512\n",
       "gosales transactions for logistic regression model                                    483\n",
       "welcome to pixiedust                                                                  481\n",
       "customer demographics and sales                                                       473\n",
       "total population by country                                                           465\n",
       "deep learning with tensorflow course by big data university                           460\n",
       "model bike sharing data with spss                                                     457\n",
       "the nurse assignment problem                                                          455\n",
       "classify tumors with machine learning                                                 442\n",
       "analyze accident reports on amazon emr spark                                          433\n",
       "movie recommender system with spark machine learning                                  426\n",
       "putting a human face on machine learning                                              418\n",
       "gosales transactions for naive bayes model                                            413\n",
       "ml optimization using cognitive assistant                                             382\n",
       "learn basics about notebooks and apache spark                                         379\n",
       "analyze precipitation data                                                            372\n",
       "apache spark lab, part 3: machine learning                                            363\n",
       "jupyter notebook tutorial                                                             352\n",
       "deploy your python model as a restful api                                             347\n",
       "visualize data with the matplotlib library                                            340\n",
       "using pixiedust for fast, flexible, and easier data analysis and experimentation      336\n",
       "access db2 warehouse on cloud and db2 with python                                     330\n",
       "                                                                                     ... \n",
       "refugees, worldwide, 2003 - 2013                                                        2\n",
       "airbnb data for analytics: san francisco listings                                       2\n",
       "airbnb data for analytics: new orleans listings                                         2\n",
       "airbnb data for analytics: washington d.c. calendar                                     2\n",
       "country statistics: merchant marine                                                     2\n",
       "airbnb data for analytics: paris reviews                                                2\n",
       "working with on-premises databases — step by step                                       2\n",
       "a glimpse inside the mind of a data scientist                                           2\n",
       "airbnb data for analytics: london listings                                              2\n",
       "airbnb data for analytics: berlin calendar                                              2\n",
       "energy use (kg of oil equivalent per capita) by country                                 2\n",
       "airbnb data for analytics: paris listings                                               2\n",
       "ibm data catalog overview                                                               1\n",
       "country surface area (sq. km)                                                           1\n",
       "this week in data science (november 22, 2016)                                           1\n",
       "build deep learning architectures with neural network modeler                           1\n",
       "airbnb data for analytics: san diego listings                                           1\n",
       "airbnb data for analytics: oakland reviews                                              1\n",
       "airbnb data for analytics: london reviews                                               1\n",
       "measles immunization % children 12-23 months by country                                 1\n",
       "country statistics: natural gas - consumption                                           1\n",
       "nips 2016 — day 2 highlights                                                            1\n",
       "create a connection and add it to a project using ibm data refinery                     1\n",
       "country statistics: market value of publicly traded shares                              1\n",
       "webinar: april 11 - thinking inside the box: you can do that inside a data frame?!      1\n",
       "airbnb data for analytics: barcelona calendar                                           1\n",
       "country statistics: crude oil - proved reserves                                         1\n",
       "the data processing inequality                                                          1\n",
       "country statistics: crude oil - imports                                                 1\n",
       "airbnb data for analytics: new orleans reviews                                          1\n",
       "Name: title, Length: 714, dtype: int64"
      ]
     },
     "execution_count": 41,
     "metadata": {},
     "output_type": "execute_result"
    }
   ],
   "source": []
  },
  {
   "cell_type": "markdown",
   "metadata": {},
   "source": [
    "## Exploratory Data Analysis"
   ]
  },
  {
   "cell_type": "markdown",
   "metadata": {},
   "source": [
    "First look at the user-item interaction dataset:"
   ]
  },
  {
   "cell_type": "code",
   "execution_count": 5,
   "metadata": {
    "scrolled": true
   },
   "outputs": [
    {
     "name": "stdout",
     "output_type": "stream",
     "text": [
      "Length of user-item interaction dataset: 45993\n",
      "Number of duplicates is: 45279\n",
      "So it seems that this is a table of accesses to articles; hence the repetition of the article IDs\n",
      "\n",
      "Number of Interactions related to an article contained in the article community file: 21454\n"
     ]
    }
   ],
   "source": [
    "\n",
    "print(\"Length of user-item interaction dataset:\", df_user_item.shape[0] )\n",
    "df_user_item['article_id'].is_unique\n",
    "#investigate duplicates\n",
    "print(\"Number of duplicates is:\", df_user_item['article_id'].duplicated().sum())\n",
    "print(\"So it seems that this is a table of accesses to articles; hence the repetition of the article IDs\")\n",
    "\n",
    "#It truns out that the articles community file only contains details of article IDs 0 to 1050\n",
    "print (\"\\nNumber of Interactions related to an article contained in the article community file:\", (df_user_item['article_id'] <= 1050).sum())"
   ]
  },
  {
   "cell_type": "markdown",
   "metadata": {},
   "source": [
    "Let's get a feel of how often and the distribution of how many articles a user interacts with in the dataset:"
   ]
  },
  {
   "cell_type": "code",
   "execution_count": 6,
   "metadata": {},
   "outputs": [],
   "source": [
    "unique_for_each_user = df_user_item[['email','article_id']].groupby(['email']).nunique()"
   ]
  },
  {
   "cell_type": "code",
   "execution_count": 7,
   "metadata": {},
   "outputs": [],
   "source": [
    "striped_unique_for_each_user = unique_for_each_user['article_id'].values"
   ]
  },
  {
   "cell_type": "code",
   "execution_count": 8,
   "metadata": {},
   "outputs": [
    {
     "data": {
      "text/plain": [
       "Text(0.5, 1.0, 'Focus on 0 to 20 region of above distribution')"
      ]
     },
     "execution_count": 8,
     "metadata": {},
     "output_type": "execute_result"
    },
    {
     "data": {
      "image/png": "[encoded data removed]",
      "text/plain": [
       "<Figure size 432x288 with 1 Axes>"
      ]
     },
     "metadata": {
      "needs_background": "light"
     },
     "output_type": "display_data"
    },
    {
     "data": {
      "image/png": "[encoded data removed]",
      "text/plain": [
       "<Figure size 432x288 with 1 Axes>"
      ]
     },
     "metadata": {
      "needs_background": "light"
     },
     "output_type": "display_data"
    }
   ],
   "source": [
    "ax = sns.distplot(striped_unique_for_each_user, bins=np.arange(0,100), kde=False, norm_hist=True )\n",
    "ax.set_title(\"Normed distribution of number of different articles users accessed\")\n",
    "plt.figure()\n",
    "ax2 = sns.distplot(striped_unique_for_each_user, bins=np.arange(0,20), kde=False, norm_hist=True )\n",
    "ax2.set_title(\"Focus on 0 to 20 region of above distribution\")\n"
   ]
  },
  {
   "cell_type": "code",
   "execution_count": 9,
   "metadata": {},
   "outputs": [
    {
     "name": "stdout",
     "output_type": "stream",
     "text": [
      "50% of individuals interact with 3 number of articles or fewer\n"
     ]
    }
   ],
   "source": [
    "median_value = np.median(striped_unique_for_each_user)\n",
    "print(\"50%% of individuals interact with %i number of articles or fewer\" % int(median_value))"
   ]
  },
  {
   "cell_type": "code",
   "execution_count": 10,
   "metadata": {},
   "outputs": [
    {
     "name": "stdout",
     "output_type": "stream",
     "text": [
      "The maximum number of user-article interactions by any 1 user is: 364\n"
     ]
    }
   ],
   "source": [
    "max_value = np.max(df_user_item['email'].value_counts())\n",
    "print(\"The maximum number of user-article interactions by any 1 user is:\", max_value)"
   ]
  },
  {
   "cell_type": "markdown",
   "metadata": {},
   "source": [
    "Explore and remove duplicate articles from the df_content dataframe:"
   ]
  },
  {
   "cell_type": "code",
   "execution_count": 11,
   "metadata": {},
   "outputs": [],
   "source": [
    "duplicate_subset = df_content[df_content['article_id'].duplicated()]"
   ]
  },
  {
   "cell_type": "code",
   "execution_count": 13,
   "metadata": {},
   "outputs": [
    {
     "data": {
      "text/html": [
       "<div>\n",
       "<style scoped>\n",
       "    .dataframe tbody tr th:only-of-type {\n",
       "        vertical-align: middle;\n",
       "    }\n",
       "\n",
       "    .dataframe tbody tr th {\n",
       "        vertical-align: top;\n",
       "    }\n",
       "\n",
       "    .dataframe thead th {\n",
       "        text-align: right;\n",
       "    }\n",
       "</style>\n",
       "<table border=\"1\" class=\"dataframe\">\n",
       "  <thead>\n",
       "    <tr style=\"text-align: right;\">\n",
       "      <th></th>\n",
       "      <th>doc_body</th>\n",
       "      <th>doc_description</th>\n",
       "      <th>doc_full_name</th>\n",
       "      <th>doc_status</th>\n",
       "      <th>article_id</th>\n",
       "    </tr>\n",
       "  </thead>\n",
       "  <tbody>\n",
       "    <tr>\n",
       "      <th>365</th>\n",
       "      <td>Follow Sign in / Sign up Home About Insight Da...</td>\n",
       "      <td>During the seven-week Insight Data Engineering...</td>\n",
       "      <td>Graph-based machine learning</td>\n",
       "      <td>Live</td>\n",
       "      <td>50</td>\n",
       "    </tr>\n",
       "    <tr>\n",
       "      <th>692</th>\n",
       "      <td>Homepage Follow Sign in / Sign up Homepage * H...</td>\n",
       "      <td>One of the earliest documented catalogs was co...</td>\n",
       "      <td>How smart catalogs can turn the big data flood...</td>\n",
       "      <td>Live</td>\n",
       "      <td>221</td>\n",
       "    </tr>\n",
       "    <tr>\n",
       "      <th>761</th>\n",
       "      <td>Homepage Follow Sign in Get started Homepage *...</td>\n",
       "      <td>Today’s world of data science leverages data f...</td>\n",
       "      <td>Using Apache Spark as a parallel processing fr...</td>\n",
       "      <td>Live</td>\n",
       "      <td>398</td>\n",
       "    </tr>\n",
       "    <tr>\n",
       "      <th>970</th>\n",
       "      <td>This video shows you how to construct queries ...</td>\n",
       "      <td>This video shows you how to construct queries ...</td>\n",
       "      <td>Use the Primary Index</td>\n",
       "      <td>Live</td>\n",
       "      <td>577</td>\n",
       "    </tr>\n",
       "    <tr>\n",
       "      <th>971</th>\n",
       "      <td>Homepage Follow Sign in Get started * Home\\r\\n...</td>\n",
       "      <td>If you are like most data scientists, you are ...</td>\n",
       "      <td>Self-service data preparation with IBM Data Re...</td>\n",
       "      <td>Live</td>\n",
       "      <td>232</td>\n",
       "    </tr>\n",
       "  </tbody>\n",
       "</table>\n",
       "</div>"
      ],
      "text/plain": [
       "                                              doc_body  \\\n",
       "365  Follow Sign in / Sign up Home About Insight Da...   \n",
       "692  Homepage Follow Sign in / Sign up Homepage * H...   \n",
       "761  Homepage Follow Sign in Get started Homepage *...   \n",
       "970  This video shows you how to construct queries ...   \n",
       "971  Homepage Follow Sign in Get started * Home\\r\\n...   \n",
       "\n",
       "                                       doc_description  \\\n",
       "365  During the seven-week Insight Data Engineering...   \n",
       "692  One of the earliest documented catalogs was co...   \n",
       "761  Today’s world of data science leverages data f...   \n",
       "970  This video shows you how to construct queries ...   \n",
       "971  If you are like most data scientists, you are ...   \n",
       "\n",
       "                                         doc_full_name doc_status  article_id  \n",
       "365                       Graph-based machine learning       Live          50  \n",
       "692  How smart catalogs can turn the big data flood...       Live         221  \n",
       "761  Using Apache Spark as a parallel processing fr...       Live         398  \n",
       "970                              Use the Primary Index       Live         577  \n",
       "971  Self-service data preparation with IBM Data Re...       Live         232  "
      ]
     },
     "execution_count": 13,
     "metadata": {},
     "output_type": "execute_result"
    }
   ],
   "source": [
    "duplicate_subset"
   ]
  },
  {
   "cell_type": "code",
   "execution_count": 14,
   "metadata": {},
   "outputs": [
    {
     "name": "stdout",
     "output_type": "stream",
     "text": [
      "New length of df_content: 1051\n"
     ]
    }
   ],
   "source": [
    "df_content = df_content.drop(list(duplicate_subset.index),axis=0)\n",
    "print(\"New length of df_content:\", df_content.shape[0])"
   ]
  },
  {
   "cell_type": "code",
   "execution_count": 15,
   "metadata": {},
   "outputs": [
    {
     "name": "stdout",
     "output_type": "stream",
     "text": [
      "Number of unique articles that have an interaction with a user: 714\n"
     ]
    }
   ],
   "source": [
    "n_uniq_interaction = df_user_item['article_id'].nunique(dropna=True)\n",
    "print(\"Number of unique articles that have an interaction with a user:\", n_uniq_interaction )"
   ]
  },
  {
   "cell_type": "code",
   "execution_count": 17,
   "metadata": {},
   "outputs": [
    {
     "name": "stdout",
     "output_type": "stream",
     "text": [
      "Number of unique articles in the dataset (whether they have any interactions or not): 1051\n"
     ]
    }
   ],
   "source": [
    "#The total number of unique articles on the IBM platform\n",
    "\n",
    "unique_articles = df_content['article_id'].unique()\n",
    "\n",
    "print(\"Number of unique articles in the dataset (whether they have any interactions or not):\", len(unique_articles) )"
   ]
  },
  {
   "cell_type": "code",
   "execution_count": 18,
   "metadata": {},
   "outputs": [
    {
     "name": "stdout",
     "output_type": "stream",
     "text": [
      "Number of unique users in the dataset. (excluding null values): 5148\n"
     ]
    }
   ],
   "source": [
    "#Users are identified by email\n",
    "unique_users = df_user_item['email'].nunique(dropna=True)\n",
    "print(\"Number of unique users in the dataset. (excluding null values):\", unique_users )"
   ]
  },
  {
   "cell_type": "code",
   "execution_count": 19,
   "metadata": {},
   "outputs": [
    {
     "name": "stdout",
     "output_type": "stream",
     "text": [
      "Number of user-article interactions in the dataset: 45993\n"
     ]
    }
   ],
   "source": [
    "print(\"Number of user-article interactions in the dataset:\", df_user_item.shape[0] )"
   ]
  },
  {
   "cell_type": "code",
   "execution_count": 20,
   "metadata": {},
   "outputs": [
    {
     "name": "stdout",
     "output_type": "stream",
     "text": [
      "Most viewed article_id: 1429\n",
      "How often it was viewed: 937\n"
     ]
    }
   ],
   "source": [
    "most_pop_article =df_user_item['article_id'].value_counts().index[0]\n",
    "max_counts = df_user_item['article_id'].value_counts().values[0]\n",
    "\n",
    "print(\"Most viewed article_id:\", int(most_pop_article) )\n",
    "print(\"How often it was viewed:\", max_counts)"
   ]
  },
  {
   "cell_type": "markdown",
   "metadata": {},
   "source": [
    "## Preprossing of the user-item interaction dataset"
   ]
  },
  {
   "cell_type": "markdown",
   "metadata": {},
   "source": [
    "Convert the email githash line to a user id line. \n",
    "\n",
    "Note: Udacity suggestedthat the all the NaN values in the email column should be assumed to be from the the same user and therefore all get the same user id number. The code below achieves this effect."
   ]
  },
  {
   "cell_type": "code",
   "execution_count": 49,
   "metadata": {},
   "outputs": [],
   "source": [
    "coded_dict = dict()\n",
    "user_increment = 1\n",
    "email_encoded = []\n",
    "    \n",
    "for val in df_user_item['email']:\n",
    "    #If this is the first time we encounter the email githash\n",
    "    if val not in coded_dict:\n",
    "        coded_dict[val] = user_increment\n",
    "        user_increment+=1\n",
    "    #Add the user id    \n",
    "    email_encoded.append(coded_dict[val])\n",
    "\n",
    "del df_user_item['email']\n",
    "df_user_item['user_id'] = email_encoded"
   ]
  },
  {
   "cell_type": "code",
   "execution_count": 50,
   "metadata": {},
   "outputs": [],
   "source": [
    "#Udacity specifies that the article_id needs to be of type string. I'm not sure why that is...\n",
    "#but I make the change here so that any tests they do will pass.\n",
    "\n",
    "df_user_item['article_id'] = df_user_item['article_id'].astype(str)"
   ]
  },
  {
   "cell_type": "code",
   "execution_count": 51,
   "metadata": {},
   "outputs": [
    {
     "data": {
      "text/html": [
       "<div>\n",
       "<style scoped>\n",
       "    .dataframe tbody tr th:only-of-type {\n",
       "        vertical-align: middle;\n",
       "    }\n",
       "\n",
       "    .dataframe tbody tr th {\n",
       "        vertical-align: top;\n",
       "    }\n",
       "\n",
       "    .dataframe thead th {\n",
       "        text-align: right;\n",
       "    }\n",
       "</style>\n",
       "<table border=\"1\" class=\"dataframe\">\n",
       "  <thead>\n",
       "    <tr style=\"text-align: right;\">\n",
       "      <th></th>\n",
       "      <th>article_id</th>\n",
       "      <th>title</th>\n",
       "      <th>user_id</th>\n",
       "    </tr>\n",
       "  </thead>\n",
       "  <tbody>\n",
       "    <tr>\n",
       "      <th>0</th>\n",
       "      <td>1430.0</td>\n",
       "      <td>using pixiedust for fast, flexible, and easier...</td>\n",
       "      <td>1</td>\n",
       "    </tr>\n",
       "    <tr>\n",
       "      <th>1</th>\n",
       "      <td>1314.0</td>\n",
       "      <td>healthcare python streaming application demo</td>\n",
       "      <td>2</td>\n",
       "    </tr>\n",
       "    <tr>\n",
       "      <th>2</th>\n",
       "      <td>1429.0</td>\n",
       "      <td>use deep learning for image classification</td>\n",
       "      <td>3</td>\n",
       "    </tr>\n",
       "    <tr>\n",
       "      <th>3</th>\n",
       "      <td>1338.0</td>\n",
       "      <td>ml optimization using cognitive assistant</td>\n",
       "      <td>4</td>\n",
       "    </tr>\n",
       "    <tr>\n",
       "      <th>4</th>\n",
       "      <td>1276.0</td>\n",
       "      <td>deploy your python model as a restful api</td>\n",
       "      <td>5</td>\n",
       "    </tr>\n",
       "  </tbody>\n",
       "</table>\n",
       "</div>"
      ],
      "text/plain": [
       "  article_id                                              title  user_id\n",
       "0     1430.0  using pixiedust for fast, flexible, and easier...        1\n",
       "1     1314.0       healthcare python streaming application demo        2\n",
       "2     1429.0         use deep learning for image classification        3\n",
       "3     1338.0          ml optimization using cognitive assistant        4\n",
       "4     1276.0          deploy your python model as a restful api        5"
      ]
     },
     "execution_count": 51,
     "metadata": {},
     "output_type": "execute_result"
    }
   ],
   "source": [
    "df_user_item.head()"
   ]
  },
  {
   "cell_type": "markdown",
   "metadata": {},
   "source": [
    "## Rank-Based Recommendations\n",
    "\n",
    "First, Let's implement a very simple rank-based recommender\n",
    "\n",
    "We don't really have much to go on here for ranking the articles except for the number of times the article was accessed. Our ranks will, therefore, be based on that.\n"
   ]
  },
  {
   "cell_type": "code",
   "execution_count": 52,
   "metadata": {},
   "outputs": [],
   "source": [
    "def get_article_names(article_ids, df=df_user_item):\n",
    "    \"\"\"\n",
    "    Returns list of article names based on ids\n",
    "\n",
    "    Args:\n",
    "        article_ids -   (list) a list of article ids\n",
    "        df -            (pandas dataframe) user-item interaction dataframe as defined\n",
    "                            at the top of the notebook\n",
    "    \n",
    "    Returns:\n",
    "        article_names - (list) a list of article names associated with the list of article ids \n",
    "                        (this is identified by the title column)\n",
    "    \"\"\"\n",
    "        \n",
    "    article_names = []\n",
    "    for article_id in article_ids:\n",
    "        article_names.append((df[df['article_id'] == article_id]['title']).unique()[0])\n",
    "    \n",
    "    return article_names # Return the article names associated with list of article ids\n",
    "\n",
    "\n",
    "def get_top_articles(n, df=df_user_item):\n",
    "    \"\"\"\n",
    "    Returns a list of the top articles in a user-item interaction dataframe\n",
    "\n",
    "    Args:\n",
    "        n - (int) the number of top articles to return\n",
    "        df - (pandas dataframe) df of user-item interactions as defined at the top of the notebook \n",
    "    \n",
    "    Returns:\n",
    "        top_articles - (list) A list of the top 'n' article titles \n",
    "    \"\"\"\n",
    "    \n",
    "    top_articles_ids = df['article_id'].value_counts(dropna=True).index[:n] \n",
    "    \n",
    "    top_article_names = get_article_names(top_articles_ids)\n",
    "    \n",
    "    return top_article_names # Return the top article titles from df (not df_content)\n",
    "\n",
    "def get_top_article_ids(n, df=df_user_item):\n",
    "    \"\"\"\n",
    "    Returns a list of indexes of the top articles in a user-item interaction dataframe\n",
    "\n",
    "    Args:\n",
    "        n - (int) the number of top articles to return\n",
    "        df - (pandas dataframe) df as defined at the top of the notebook \n",
    "    \n",
    "    Returns:\n",
    "        top_articles - (list) A list of the top 'n' article id's\n",
    "    \"\"\"\n",
    "     \n",
    "    top_articles = df['article_id'].value_counts(dropna=True).index[:n]     \n",
    "        \n",
    "    return top_articles # Return the top article ids"
   ]
  },
  {
   "cell_type": "markdown",
   "metadata": {},
   "source": [
    "The **top ten** articles according to our rank-based recommender are:"
   ]
  },
  {
   "cell_type": "code",
   "execution_count": 60,
   "metadata": {},
   "outputs": [
    {
     "name": "stdout",
     "output_type": "stream",
     "text": [
      "['use deep learning for image classification', 'insights from new york car accident reports', 'visualize car data with brunel', 'use xgboost, scikit-learn & ibm watson machine learning apis', 'predicting churn with the spss random tree algorithm', 'healthcare python streaming application demo', 'finding optimal locations of new store using decision optimization', 'apache spark lab, part 1: basic concepts', 'analyze energy consumption in buildings', 'gosales transactions for logistic regression model']\n"
     ]
    }
   ],
   "source": [
    "print(get_top_articles(10))  "
   ]
  },
  {
   "cell_type": "markdown",
   "metadata": {},
   "source": [
    "..And they correspond to the following article ids:"
   ]
  },
  {
   "cell_type": "code",
   "execution_count": 61,
   "metadata": {},
   "outputs": [
    {
     "name": "stdout",
     "output_type": "stream",
     "text": [
      "Index(['1429.0', '1330.0', '1431.0', '1427.0', '1364.0', '1314.0', '1293.0',\n",
      "       '1170.0', '1162.0', '1304.0'],\n",
      "      dtype='object')\n"
     ]
    }
   ],
   "source": [
    "print(get_top_article_ids(10))"
   ]
  },
  {
   "cell_type": "markdown",
   "metadata": {},
   "source": [
    "## User-User Based Collaborative Filtering\n",
    "\n",
    "The first step is to create a matrix with users as the rows and articles as the columns. 1 row for every unique user. 1 column for every article.\n",
    "\n"
   ]
  },
  {
   "cell_type": "code",
   "execution_count": 53,
   "metadata": {},
   "outputs": [],
   "source": [
    "# create the user-article matrix with 1's and 0's\n",
    "\n",
    "def create_user_item_matrix(df):\n",
    "    \"\"\"\n",
    "    Return a matrix with user ids as rows and article ids on the columns with 1 values where a user interacted with \n",
    "    an article and a 0 otherwise\n",
    "\n",
    "    Args:\n",
    "        df - pandas dataframe with article_id, title, user_id columns\n",
    "    \n",
    "    Returns:\n",
    "        user_item - user item matrix \n",
    "    \"\"\"\n",
    "    df_local = df[['user_id', 'article_id']]\n",
    "    df_local = df_local.dropna(axis=0, subset=['user_id'])\n",
    "    #Create a \"value\" column to be used as values in the pivot_table operation\n",
    "    df_local['value'] = 1\n",
    "    user_item = df_local.pivot_table(index='user_id', columns='article_id', values='value', fill_value=0)\n",
    "    \n",
    "    return user_item # return the user_item matrix \n"
   ]
  },
  {
   "cell_type": "markdown",
   "metadata": {},
   "source": [
    "Create the User-Item Matrix:"
   ]
  },
  {
   "cell_type": "code",
   "execution_count": 54,
   "metadata": {},
   "outputs": [],
   "source": [
    "user_item_sparse_matrix = create_user_item_matrix(df_user_item)"
   ]
  },
  {
   "cell_type": "code",
   "execution_count": 55,
   "metadata": {},
   "outputs": [],
   "source": [
    "def find_similar_users(user_id, user_item=user_item_sparse_matrix):\n",
    "    \"\"\"\n",
    "    Computes the similarity of every pair of users based on the dot product\n",
    "\n",
    "    Args:\n",
    "        user_id -            (int) a user_id\n",
    "        user_item -          (pandas dataframe) matrix of users by articles: \n",
    "                                 1's when a user has interacted with an article, 0 otherwise\n",
    "    \n",
    "    Returns:\n",
    "        most_similar_users - (list) an ordered list where the closest users (largest dot product users)\n",
    "                                 are listed first\n",
    "    \"\"\"\n",
    "    \n",
    "    # compute similarity of each user to the provided user\n",
    "    user_item_t = user_item.transpose()\n",
    "    dot_prod = user_item.loc[user_id,:].dot(user_item_t)\n",
    "        \n",
    "    # sort by similarity\n",
    "    most_similar_users = list(dot_prod.sort_values(ascending=False).index)\n",
    "    #ignore similarity with its self (note that this may not necessarily be in the first position..\n",
    "    #if there is a tie for the most simillar)\n",
    "    most_similar_users.remove(user_id)\n",
    "    \n",
    "       \n",
    "    return most_similar_users # return a list of the users in order from most to least similar"
   ]
  },
  {
   "cell_type": "code",
   "execution_count": 56,
   "metadata": {},
   "outputs": [],
   "source": [
    "\n",
    "\n",
    "\n",
    "def get_user_articles(user_id, user_item=user_item_sparse_matrix):\n",
    "    \"\"\"\n",
    "    Provides a list of the article_ids and article titles that have been seen by a user\n",
    "\n",
    "    Args:\n",
    "        user_id -       (int) a user id\n",
    "        user_item -     (pandas dataframe) matrix of users by articles: \n",
    "                            1's when a user has interacted with an article, 0 otherwise\n",
    "    \n",
    "    Returns:\n",
    "        article_ids -   (list) a list of the article ids seen by the user\n",
    "        article_names - (list) a list of article names associated with the list of article ids \n",
    "                        (this is identified by the doc_full_name column in df_content)\n",
    "    \"\"\"\n",
    "    \n",
    "    user_row = user_item.loc[user_id,:]\n",
    "    \n",
    "    article_ids = list(user_row[user_row == 1].index)\n",
    "    \n",
    "    article_names = get_article_names(article_ids)\n",
    "    \n",
    "    return article_ids, article_names # return the ids and names\n",
    "\n",
    "\n",
    "def user_user_recs(user_id, m=10):\n",
    "    \"\"\"\n",
    "    Loops through the users based on closeness to the input user_id\n",
    "    For each user - finds articles the user hasn't seen before and provides them as recs\n",
    "    Continues until m recommendations are found\n",
    "    \n",
    "    Notes:\n",
    "    Users who are the same closeness are chosen arbitrarily as the 'next' user\n",
    "    \n",
    "    For the user where the number of recommended articles starts below m \n",
    "    and ends exceeding m, the last items are chosen arbitrarily\n",
    "\n",
    "    Args:\n",
    "        user_id -          (int) a user id\n",
    "        m -                (int) the number of recommendations you want for the user\n",
    "    \n",
    "    Returns:\n",
    "        recommendations -  (list) a list of recommendations for the user\n",
    "    \"\"\"\n",
    "    \n",
    "    sim_users = find_similar_users(user_id)\n",
    "\n",
    "    rec_ids = []\n",
    "    rec_names = []\n",
    "\n",
    "    for sim_user in sim_users:\n",
    "        art_ids, _ = get_user_articles(sim_user)\n",
    "        rec_ids.extend(art_ids)\n",
    "        if len(rec_ids) > m:\n",
    "            break\n",
    "    \n",
    "    #If there are more than m in the rec_names list we onyl want to return m\n",
    "    if len(rec_ids) < m:\n",
    "        recommendations = rec_ids\n",
    "    else:\n",
    "        recommendations = rec_ids[:m]\n",
    "       \n",
    "    return recommendations # return your recommendations for this user_id    "
   ]
  },
  {
   "cell_type": "markdown",
   "metadata": {},
   "source": [
    "#### Some usage of above functions:\n",
    "\n",
    "Get the top 15 recommended articles for user 20"
   ]
  },
  {
   "cell_type": "code",
   "execution_count": 34,
   "metadata": {},
   "outputs": [
    {
     "data": {
      "text/plain": [
       "['finding optimal locations of new store using decision optimization',\n",
       " 'simple graphing with ipython and\\xa0pandas',\n",
       " 'house building with worker skills',\n",
       " 'learn basics about notebooks and apache spark',\n",
       " 'maximize oil company profits',\n",
       " 'model a golomb ruler',\n",
       " 'this week in data science (february 7, 2017)',\n",
       " 'the nurse assignment problem',\n",
       " 'the unit commitment problem',\n",
       " 'use decision optimization to schedule league games',\n",
       " 'hyperparameter optimization: sven hafeneger',\n",
       " 'access db2 warehouse on cloud and db2 with python',\n",
       " 'access mysql with python',\n",
       " 'access mysql with r',\n",
       " 'access postgresql with python']"
      ]
     },
     "execution_count": 34,
     "metadata": {},
     "output_type": "execute_result"
    }
   ],
   "source": [
    "get_article_names(user_user_recs(115, 15))"
   ]
  },
  {
   "cell_type": "markdown",
   "metadata": {},
   "source": [
    "### Making an improvement on the user-user based Collaborative filtering \n",
    "\n",
    "Now we are going to improve the consistency of the **user_user_recs** function from above by: \n",
    "\n",
    "* Instead of arbitrarily choosing when we obtain users who are all the same closeness to a given user - we choose the users that have the most total article interactions before choosing those with fewer article interactions.\n",
    "\n",
    "* Instead of arbitrarily choosing articles from the user where the number of recommended articles starts below m and ends exceeding m, we choose articles with the articles with the most total interactions before choosing those with fewer total interactions. This ranking should be what would be obtained from the **top_articles** function above."
   ]
  },
  {
   "cell_type": "code",
   "execution_count": 99,
   "metadata": {},
   "outputs": [],
   "source": [
    "def get_top_sorted_users(user_id, df=df_user_item, user_item=user_item_sparse_matrix):\n",
    "    \"\"\"\n",
    "    sort the neighbors_df by the similarity and then by number of interactions ( number of times..\n",
    "    user accessed an any article) where there is a tie\n",
    "    \n",
    "    Args:\n",
    "        user_id -   (int)\n",
    "        df -        (pandas dataframe) df as defined at the top of the notebook \n",
    "        user_item - (pandas dataframe) matrix of users by articles: \n",
    "                        1's when a user has interacted with an article, 0 otherwise\n",
    "    \n",
    "    Returns:\n",
    "        neighbors_df -     (pandas dataframe) a dataframe with\n",
    "                                neighbor_id -      is a neighbor user_id\n",
    "                                similarity -       measure of the similarity of each user to the provided user_id\n",
    "                                num_interactions - the number of articles viewed by the user \n",
    "    \"\"\"   \n",
    "    \n",
    "    user_item_t = user_item.transpose()\n",
    "    dot_prod = user_item.loc[user_id,:].dot(user_item_t)\n",
    "    \n",
    "    \"\"\"\n",
    "    num_interactions = []\n",
    "    for user in dot_prod.index:\n",
    "        interactions = (df['user_id'] == user).sum()\n",
    "        num_interactions.append(interactions)\n",
    "    #Convert to a numpy array to allow for simple inclusion in the data_prod_df dataframe\n",
    "    \"\"\"\n",
    "    \n",
    "    \n",
    "    #Get the  a list of the number of times each user accesses an article (any article) \n",
    "    num_interactions = df_user_item['user_id'].value_counts().sort_index()\n",
    "    num_interactions_np = np.array(num_interactions)\n",
    "    \n",
    "    #Combine dot_prod and num_interactions together in a dataframe for sorting together\n",
    "    dot_prod_df = pd.DataFrame(dot_prod)\n",
    "    dot_prod_df = dot_prod_df.rename(columns={user_id: \"similarity\"})\n",
    "    dot_prod_df['num_interactions']  = num_interactions_np[dot_prod.index -1]\n",
    "    \n",
    "    neighbors_df = dot_prod_df.sort_values(['similarity', 'num_interactions'],ascending=False)\n",
    "    \n",
    "    neighbors_df = neighbors_df.reset_index()\n",
    "    neighbors_df = neighbors_df.rename(columns={\"user_id\": \"neighbor_id\"})\n",
    "    \n",
    "    neighbors_df = neighbors_df[neighbors_df['neighbor_id'] != user_id]\n",
    "        \n",
    "    return neighbors_df # Return the dataframe specified in the doc_string\n",
    "\n",
    "\n",
    "def sort_articles(articles, df=df_user_item):\n",
    "    \"\"\"\n",
    "    Sorts a list of article ids in order of the number of accesses the articles have.\n",
    "\n",
    "    Args:\n",
    "        articles -  (list) a list of article ids\n",
    "        df -        (pandas dataframe) user-item interaction dataframe as defined\n",
    "                            at the top of the notebook\n",
    "    \n",
    "    Returns:\n",
    "        sorted_articles - (list) sorted list of articles\n",
    "    \"\"\"\n",
    "    \n",
    "    #First, get the number of accesses for each article in list\n",
    "    num_accessed = []\n",
    "    for article in articles:\n",
    "        accessed = (df_user_item['article_id'] == article).sum()\n",
    "        num_accessed.append(accessed)\n",
    "    num_accessed_np = np.array(num_accessed)\n",
    "\n",
    "    #Next, sort the input list according to the number of accesses\n",
    "    #We do this rather clumilsy by combining the article id and the num of accesses for the articles..\n",
    "    #into one dataframe and sorting on accesses. The article_id column is then sorted in the desired order\n",
    "    art_ids_df = pd.DataFrame(articles)\n",
    "    art_ids_df['accesses'] = num_accessed_np\n",
    "    art_ids_df = art_ids_df.rename(columns={0: \"article_id\"})\n",
    "    art_ids_df = art_ids_df.sort_values(['accesses'],ascending=False)\n",
    "    sorted_articles = art_ids_df['article_id'].values\n",
    "    \n",
    "    return sorted_articles\n",
    "\n",
    "def user_user_recs_part2(user_id, m=10):\n",
    "    \"\"\"\n",
    "    Loops through the users based on closeness to the input user_id\n",
    "    For each user : finds articles the user hasn't seen before and provides them\n",
    "    as recommendations. Continues until m recommendations are found\n",
    "    \n",
    "    Notes:\n",
    "    * Favours users with more article interactions before choosing \n",
    "    those with fewer article interactions.\n",
    "\n",
    "    * Favours articles with the most total interactions before choosing \n",
    "    those with fewer total interactions. \n",
    "\n",
    "    Args:\n",
    "        user_id - (int) a user id\n",
    "        m -      (int) the number of recommendations you want for the user\n",
    "    \n",
    "    Returns:\n",
    "        recommended_ids -    (list) a list of recommendations for the user by article id\n",
    "        recommended_names -  (list) a list of recommendations for the user by article title\n",
    "    \"\"\"\n",
    "\n",
    "    similar_users = get_top_sorted_users(user_id)\n",
    "\n",
    "    recommended_ids = []\n",
    "\n",
    "    #Go through the most similar users and take recommendations from each in turn\n",
    "    #Stop the process when recommendations obtained > m\n",
    "    for similar_index,similar_row in similar_users.iterrows():\n",
    "        art_ids, _ = get_user_articles(similar_row['neighbor_id'])\n",
    "        \n",
    "        #sort the articles so that the most relevent are to be included in case the\n",
    "        #m cutoff point is reached.\n",
    "        sorted_article_ids = sort_articles(art_ids)\n",
    "        \n",
    "        recommended_ids.extend(sorted_article_ids)\n",
    "        if len(recommended_ids) > m:\n",
    "            break\n",
    "\n",
    "    #If there are more than m in the rec_names list we only want to return m\n",
    "    if len(recommended_ids) < m:\n",
    "        recommended_ids = recommended_ids\n",
    "    else:\n",
    "        recommended_ids = recommended_ids[:m]\n",
    "       \n",
    "    recommended_names = get_article_names(recommended_ids)\n",
    "    \n",
    "    return recommended_ids, recommended_names"
   ]
  },
  {
   "cell_type": "markdown",
   "metadata": {},
   "source": [
    "#### Some usage of above functions:\n",
    "\n",
    "Get the top 15 recommended articles for user 20"
   ]
  },
  {
   "cell_type": "code",
   "execution_count": 100,
   "metadata": {},
   "outputs": [],
   "source": [
    "_, rec_names = user_user_recs_part2(20, 15)"
   ]
  },
  {
   "cell_type": "code",
   "execution_count": 101,
   "metadata": {},
   "outputs": [
    {
     "data": {
      "text/plain": [
       "['insights from new york car accident reports',\n",
       " 'use xgboost, scikit-learn & ibm watson machine learning apis',\n",
       " 'predicting churn with the spss random tree algorithm',\n",
       " 'apache spark lab, part 1: basic concepts',\n",
       " 'analyze energy consumption in buildings',\n",
       " 'gosales transactions for logistic regression model',\n",
       " 'model bike sharing data with spss',\n",
       " 'analyze accident reports on amazon emr spark',\n",
       " 'movie recommender system with spark machine learning',\n",
       " 'putting a human face on machine learning',\n",
       " 'ml optimization using cognitive assistant',\n",
       " 'learn basics about notebooks and apache spark',\n",
       " 'apache spark lab, part 3: machine learning',\n",
       " 'deploy your python model as a restful api',\n",
       " 'analyze open data sets with spark & pixiedust']"
      ]
     },
     "execution_count": 101,
     "metadata": {},
     "output_type": "execute_result"
    }
   ],
   "source": [
    "rec_names"
   ]
  },
  {
   "cell_type": "markdown",
   "metadata": {},
   "source": [
    "#### Observations on the above collaborative filtering algo\n",
    "\n",
    "*I observed that with the above algorithm it is typcial that all a users recommendations may come from 1 single other user (albeit a similar user). This is not ideal in terms of diversification of suggestions. To rectify this the algo could take pick off recommendations in a cycle from k nearest neighbours. There is a discussion [here](https://gab41.lab41.org/recommender-systems-its-not-all-about-the-accuracy-562c7dceeaff) on how to measure diversification. Some features of the suggestions are needed to measure diversification. Perhaps through clustering of NLP features of the body of text we could do something here.* \n",
    "\n"
   ]
  },
  {
   "cell_type": "markdown",
   "metadata": {},
   "source": [
    "## Matrix Factorization using SVD"
   ]
  },
  {
   "cell_type": "code",
   "execution_count": 58,
   "metadata": {},
   "outputs": [
    {
     "data": {
      "text/plain": [
       "(5149, 714)"
      ]
     },
     "execution_count": 58,
     "metadata": {},
     "output_type": "execute_result"
    }
   ],
   "source": [
    "user_item_sparse_matrix.shape"
   ]
  },
  {
   "cell_type": "markdown",
   "metadata": {},
   "source": [
    "#### Testing SVD with missing values present:"
   ]
  },
  {
   "cell_type": "code",
   "execution_count": 59,
   "metadata": {},
   "outputs": [
    {
     "name": "stdout",
     "output_type": "stream",
     "text": [
      "Total Missing values in temp_sparse_matrix: 1\n",
      "SVD failed with following error: SVD did not converge\n"
     ]
    }
   ],
   "source": [
    "temp_sparse_matrix = user_item_sparse_matrix\n",
    "temp_sparse_matrix.iloc[1,1] = np.NaN\n",
    "print(\"Total Missing values in temp_sparse_matrix:\", temp_sparse_matrix.isnull().sum().sum() )\n",
    "\n",
    "#Try SVD\n",
    "try:\n",
    "    u, s, vt = np.linalg.svd(temp_sparse_matrix)\n",
    "except Exception as error:\n",
    "    print(\"SVD failed with following error:\", str(error))\n",
    "else:\n",
    "    print(\"SVD worked\")\n"
   ]
  },
  {
   "cell_type": "markdown",
   "metadata": {},
   "source": [
    "*As can be seen below, the user_item matrix is very much sparse. However it does not contain nans. We have a binary classification of either 0 (user did not access article) or 1 (user did access article).*\n",
    "\n",
    "*According to [this](http://nicolas-hug.com/blog/matrix_facto_3) explaination of matrix factorization, SVD can be carried out on a sparse matrix when we mean sparse to mean a lot of zeros and few non-zero values. However the SVD is not defined when there are missing values that we are trying to predict.*"
   ]
  },
  {
   "cell_type": "code",
   "execution_count": 15,
   "metadata": {},
   "outputs": [
    {
     "data": {
      "image/png": "[encoded data removed]",
      "text/plain": [
       "<Figure size 432x288 with 1 Axes>"
      ]
     },
     "metadata": {
      "needs_background": "light"
     },
     "output_type": "display_data"
    }
   ],
   "source": []
  },
  {
   "cell_type": "markdown",
   "metadata": {},
   "source": [
    "Split the user-iteraction dataset into an offline training and testing subset:"
   ]
  },
  {
   "cell_type": "code",
   "execution_count": 60,
   "metadata": {},
   "outputs": [],
   "source": [
    "def create_test_and_train_user_item(df_user_item, ratio):\n",
    "    \"\"\"\n",
    "    Creates a test and train set.\n",
    "\n",
    "    Args:\n",
    "        df_user_item -  user-item interaction dataframe to be split\n",
    "        df_test -   test dataframe\n",
    "    \n",
    "    Returns:\n",
    "        user_item_train - a user-item matrix of the training dataframe \n",
    "                          (unique users for each row and unique articles for each column)\n",
    "        user_item_test -  a user-item matrix of the testing dataframe \n",
    "                          (unique users for each row and unique articles for each column)\n",
    "        train_idx -       all of the train user ids\n",
    "        train_arts -      all of the train article ids              \n",
    "        \n",
    "    \"\"\"\n",
    "    #First, we shuffle the user-item df. As mentioned, at the top of this workbook, the.. \n",
    "    #user-item dataset seems to have a temporal nature and the accesses of a particular..\n",
    "    #user are usually clustered in a region of the dataset. Therefore if we split down..\n",
    "    #the original dataset there will be poor overlap of users. Not what we want for our..\n",
    "    #testset.  \n",
    "    user_item_shuffled = df_user_item.sample(frac=1)\n",
    "    \n",
    "    split_point = int(ratio*df_user_item.shape[0])\n",
    "    df_train = user_item_shuffled[:split_point]\n",
    "    df_test = user_item_shuffled[split_point:]\n",
    "    \n",
    "    \n",
    "    user_item_train = create_user_item_matrix(df_train)\n",
    "    user_item_test = create_user_item_matrix(df_test)\n",
    "    \n",
    "    train_idx = np.array(user_item_train.index)\n",
    "    train_arts = np.array(user_item_train.columns)\n",
    "        \n",
    "    return user_item_train, user_item_test, train_idx, train_arts"
   ]
  },
  {
   "cell_type": "code",
   "execution_count": 23,
   "metadata": {},
   "outputs": [],
   "source": [
    "user_item_train, user_item_test, train_idx, train_arts = create_test_and_train_user_item(df_user_item, 0.8)"
   ]
  },
  {
   "cell_type": "markdown",
   "metadata": {},
   "source": [
    "Fit the SVD on the training subset: "
   ]
  },
  {
   "cell_type": "code",
   "execution_count": 24,
   "metadata": {},
   "outputs": [
    {
     "name": "stdout",
     "output_type": "stream",
     "text": [
      "(4834, 4834) (708,) (708, 708)\n"
     ]
    }
   ],
   "source": [
    "u, s, vt = np.linalg.svd(user_item_train)\n",
    "print(u.shape, s.shape, vt.shape)"
   ]
  },
  {
   "cell_type": "markdown",
   "metadata": {},
   "source": [
    "#### Predict a single value in the test dataset:"
   ]
  },
  {
   "cell_type": "code",
   "execution_count": 61,
   "metadata": {},
   "outputs": [],
   "source": [
    "#Now use the fitted model to predict a value in the test subset\n",
    "\n",
    "def predict_suitability(user_id, article_id,  u, s, vt, k=200):\n",
    "\n",
    "    s_new, u_new, vt_new = np.diag(s[:k]), u[:, :k], vt[:k, :]\n",
    "    \n",
    "    #using the original user id and article id used in the dataframe\n",
    "    #(The index and column names got stripped in the SVD call)\n",
    "    user_row = np.where(train_idx == user_id)[0][0]\n",
    "    article_col = np.where(train_arts == article_id)[0][0]\n",
    "\n",
    "    #should have np.round here\n",
    "    predict = (np.dot(np.dot(u_new[user_row, :], s_new), vt_new[:, article_col]))\n",
    "\n",
    "    return predict"
   ]
  },
  {
   "cell_type": "code",
   "execution_count": 62,
   "metadata": {},
   "outputs": [
    {
     "data": {
      "text/plain": [
       "-0.020523205299220845"
      ]
     },
     "execution_count": 62,
     "metadata": {},
     "output_type": "execute_result"
    }
   ],
   "source": [
    "predict_suitability(3998, '1014.0', u, s, vt, k=200)"
   ]
  },
  {
   "cell_type": "markdown",
   "metadata": {},
   "source": [
    "#### Obtain score based on test set to rate SVD"
   ]
  },
  {
   "cell_type": "code",
   "execution_count": 63,
   "metadata": {},
   "outputs": [
    {
     "name": "stdout",
     "output_type": "stream",
     "text": [
      "(4845, 4845) (704,) (704, 704)\n"
     ]
    }
   ],
   "source": [
    "u, s, vt = np.linalg.svd(user_item_train)\n",
    "print(u.shape, s.shape, vt.shape)"
   ]
  },
  {
   "cell_type": "markdown",
   "metadata": {},
   "source": [
    "*Next we create a subset of the test dataset that contains only users that are also in the training set. Users outside of his subset can be considered to be a different problem: dealing with new users (a.k.a. the cold-start problem)*"
   ]
  },
  {
   "cell_type": "code",
   "execution_count": 185,
   "metadata": {},
   "outputs": [
    {
     "data": {
      "text/plain": [
       "610"
      ]
     },
     "execution_count": 185,
     "metadata": {},
     "output_type": "execute_result"
    }
   ],
   "source": [
    "len(test_subset.columns & train_arts)"
   ]
  },
  {
   "cell_type": "code",
   "execution_count": 64,
   "metadata": {},
   "outputs": [],
   "source": [
    "test_subset = user_item_test[user_item_test.index.isin(train_idx)]\n",
    "\n",
    "#trim off columns in the testset that do not exist in the training set\n",
    "intersection_cols = test_subset.columns & train_arts\n",
    "test_subset = test_subset[intersection_cols]"
   ]
  },
  {
   "cell_type": "markdown",
   "metadata": {},
   "source": [
    "#### Latent feature sweep and code for calculating recommendations"
   ]
  },
  {
   "cell_type": "code",
   "execution_count": 65,
   "metadata": {},
   "outputs": [],
   "source": [
    "def latent_feature_sweep(test_data, s, u, vt, latent_feature_num_list, score_func):\n",
    "    \"\"\"\n",
    "    Evaluate performance of SVD algo \n",
    "\n",
    "    Args:\n",
    "        test_data -                test subset of data to be compared against\n",
    "        s, u, vt -                 SVD components\n",
    "        latent_feature_num_list -  list of number of latent features to be analyised\n",
    "        score_func -               score function to be used to evaluate performace. \n",
    "                                   One of [f1_score, precision_score, recall_score]\n",
    "    \n",
    "    Returns:\n",
    "        score - list of scores. One for each number in latent_feature_num_list             \n",
    "        \n",
    "    \"\"\"\n",
    "    scores = []\n",
    "    \n",
    "    for k in latent_features_sweep_nums:\n",
    "        # restructure with k latent features\n",
    "        s_new, u_new, vt_new = np.diag(s[:k]), u[:, :k], vt[:k, :]\n",
    "\n",
    "        user_item_est = (np.dot(np.dot(u_new, s_new), vt_new)) #removed np.around\n",
    "\n",
    "        #get the threshold for top 26,000 recommendations\n",
    "        flattened_estimates = user_item_est.flatten()\n",
    "        flattened_estimates.sort()\n",
    "\n",
    "        #convert to 1 only the top 26000 values, and 0 all others\n",
    "        limit = flattened_estimates[-26000]\n",
    "\n",
    "        top_estimates = np.where(user_item_est > limit, 1, 0 )\n",
    "\n",
    "        df_top_estimates = pd.DataFrame(top_estimates, index=train_idx, columns=train_arts)\n",
    "\n",
    "        #The following trimming of the results is needed because we want to do some comparisons..\n",
    "        #with the test dataset.\n",
    "        #trim off users not in the test_subset\n",
    "        trimmed_estimates_temp = df_top_estimates[df_top_estimates.index.isin(test_subset.index)]\n",
    "        #trim off articles not in the test_subset\n",
    "        intersection_cols = test_data.columns & trimmed_estimates_temp.columns\n",
    "        trimmed_estimates = trimmed_estimates_temp[intersection_cols]\n",
    "\n",
    "        score = score_func(test_data, trimmed_estimates, average='micro')\n",
    "        scores.append(score)\n",
    "        \n",
    "    return scores\n",
    "    "
   ]
  },
  {
   "cell_type": "markdown",
   "metadata": {},
   "source": [
    "#### Evaualtion of the SVD algo against number of latent features\n",
    "\n",
    "I choose an F1 score to evaulate this binary classification problem. There is no clear motivation to focus on either precision or recall so F1 a mixture of the two seems the most appropiate.\n",
    "\n",
    "Predicably the scores are low regardless "
   ]
  },
  {
   "cell_type": "code",
   "execution_count": 66,
   "metadata": {},
   "outputs": [
    {
     "data": {
      "image/png": "[encoded data removed]",
      "text/plain": [
       "<Figure size 432x288 with 1 Axes>"
      ]
     },
     "metadata": {
      "needs_background": "light"
     },
     "output_type": "display_data"
    }
   ],
   "source": [
    "score_func = f1_score\n",
    "latent_features_sweep_nums = np.arange(10,200,10)\n",
    "scores = latent_feature_sweep(test_subset, s, u, vt, latent_features_sweep_nums, score_func)\n",
    "\n",
    "plt.plot(latent_features_sweep_nums, scores);\n",
    "plt.xlabel('Number of Latent Features');\n",
    "plt.ylabel('F1-Score');\n",
    "plt.title('F1-Score vs. Number of Latent Features');\n",
    "\n",
    "\n"
   ]
  },
  {
   "cell_type": "markdown",
   "metadata": {},
   "source": [
    "*The conclusion from the above is that 90 latent features gives best performance for the SVD filter*"
   ]
  },
  {
   "cell_type": "markdown",
   "metadata": {},
   "source": [
    "## Comparison of the algos"
   ]
  },
  {
   "cell_type": "markdown",
   "metadata": {},
   "source": [
    "Let's compare:\n",
    "\n",
    "The user-user collaborative based filter algo\n",
    "The SVD algo\n"
   ]
  },
  {
   "cell_type": "code",
   "execution_count": 67,
   "metadata": {},
   "outputs": [],
   "source": [
    "user_item_train, user_item_test, train_idx, train_arts = create_test_and_train_user_item(df_user_item, 0.8)"
   ]
  },
  {
   "cell_type": "code",
   "execution_count": 68,
   "metadata": {},
   "outputs": [],
   "source": [
    "#Limit the comparison to users in the test that also feature in the training set. (i.e. not new users)\n",
    "test_subset = user_item_test[user_item_test.index.isin(train_idx)]\n",
    "\n",
    "#trim off columns in the testset that do not exist in the training set\n",
    "intersection_cols = test_subset.columns & train_arts\n",
    "test_subset = test_subset[intersection_cols]\n",
    "\n",
    "users = test_subset.index"
   ]
  },
  {
   "cell_type": "code",
   "execution_count": 193,
   "metadata": {},
   "outputs": [
    {
     "data": {
      "text/plain": [
       "2644"
      ]
     },
     "execution_count": 193,
     "metadata": {},
     "output_type": "execute_result"
    }
   ],
   "source": [
    "len(users)"
   ]
  },
  {
   "cell_type": "markdown",
   "metadata": {},
   "source": [
    "#### SVD Model based Collaborative Filter"
   ]
  },
  {
   "cell_type": "code",
   "execution_count": 195,
   "metadata": {},
   "outputs": [
    {
     "name": "stdout",
     "output_type": "stream",
     "text": [
      "(4854, 4854) (708,) (708, 708)\n"
     ]
    }
   ],
   "source": [
    "u, s, vt = np.linalg.svd(user_item_train)\n",
    "print(u.shape, s.shape, vt.shape)"
   ]
  },
  {
   "cell_type": "code",
   "execution_count": 196,
   "metadata": {},
   "outputs": [],
   "source": [
    "k = 33\n",
    "s_new, u_new, vt_new = np.diag(s[:k]), u[:, :k], vt[:k, :]"
   ]
  },
  {
   "cell_type": "code",
   "execution_count": null,
   "metadata": {},
   "outputs": [],
   "source": []
  },
  {
   "cell_type": "markdown",
   "metadata": {},
   "source": [
    "#### User-User Memory Based Collaborative Filter "
   ]
  },
  {
   "cell_type": "code",
   "execution_count": null,
   "metadata": {},
   "outputs": [],
   "source": [
    "for user in users\n",
    "_, rec_names = user_user_recs_part2(20, 15)"
   ]
  },
  {
   "cell_type": "code",
   "execution_count": 106,
   "metadata": {},
   "outputs": [
    {
     "name": "stdout",
     "output_type": "stream",
     "text": [
      "Wall time: 731 ms\n"
     ]
    }
   ],
   "source": [
    "%time _, rec_names = user_user_recs_part2(20, 15)"
   ]
  },
  {
   "cell_type": "code",
   "execution_count": 74,
   "metadata": {},
   "outputs": [
    {
     "name": "stdout",
     "output_type": "stream",
     "text": [
      "Wall time: 28 ms\n",
      "Wall time: 8 ms\n",
      "Wall time: 0 ns\n",
      "Wall time: 0 ns\n",
      "Wall time: 0 ns\n",
      "Wall time: 0 ns\n",
      "Wall time: 0 ns\n",
      "Wall time: 0 ns\n",
      "Wall time: 15.6 ms\n",
      "Wall time: 0 ns\n"
     ]
    }
   ],
   "source": [
    "user_id = 20\n",
    "\n",
    "%time user_item_t = user_item_sparse_matrix.transpose()\n",
    "%time dot_prod = user_item_sparse_matrix.loc[user_id,:].dot(user_item_t)\n",
    "\n",
    "num_interactions = []\n",
    "for user in dot_prod.index:\n",
    "    interactions = (df_user_item['user_id'] == user).sum()\n",
    "    num_interactions.append(interactions)\n",
    "#Convert to a numpy array to allow for simple inclusion in the data_prod_df dataframe\n",
    "%time num_interactions_np = np.array(num_interactions)\n",
    "\n",
    "#Combine dot_prod and num_interactions together in a dataframe for sorting together\n",
    "%time dot_prod_df = pd.DataFrame(dot_prod)\n",
    "%time dot_prod_df = dot_prod_df.rename(columns={user_id: \"similarity\"})\n",
    "%time dot_prod_df['num_interactions']  = num_interactions_np[dot_prod.index -1]\n",
    "\n",
    "%time neighbors_df = dot_prod_df.sort_values(['similarity', 'num_interactions'],ascending=False)\n",
    "\n",
    "%time neighbors_df = neighbors_df.reset_index()\n",
    "%time neighbors_df = neighbors_df.rename(columns={\"user_id\": \"neighbor_id\"})\n",
    "\n",
    "%time neighbors_df = neighbors_df[neighbors_df['neighbor_id'] != user_id]\n",
    "\n",
    "\n"
   ]
  }
 ],
 "metadata": {
  "kernelspec": {
   "display_name": "Python 3",
   "language": "python",
   "name": "python3"
  },
  "language_info": {
   "codemirror_mode": {
    "name": "ipython",
    "version": 3
   },
   "file_extension": ".py",
   "mimetype": "text/x-python",
   "name": "python",
   "nbconvert_exporter": "python",
   "pygments_lexer": "ipython3",
   "version": "3.7.2"
  }
 },
 "nbformat": 4,
 "nbformat_minor": 2
}
